{
 "cells": [
  {
   "cell_type": "code",
   "execution_count": 18,
   "id": "443c82f4",
   "metadata": {},
   "outputs": [],
   "source": [
    "# Source: https://github.com/tsarjak/Simulate-Correct-ColorBlindness/blob/master/recolor.py"
   ]
  },
  {
   "cell_type": "code",
   "execution_count": 1,
   "id": "a18292fb",
   "metadata": {},
   "outputs": [],
   "source": [
    "import glob\n",
    "import os\n",
    "\n",
    "import numpy as np\n",
    "from PIL import Image\n",
    "import cv2\n",
    "\n",
    "from utils import Transforms, Utils  # Source"
   ]
  },
  {
   "cell_type": "code",
   "execution_count": 15,
   "id": "af9f668c",
   "metadata": {},
   "outputs": [],
   "source": [
    "input_path = 'E:/global-wheat-detection/train'\n",
    "files = sorted(glob.glob(input_path + \"/*.*\"))"
   ]
  },
  {
   "cell_type": "code",
   "execution_count": 16,
   "id": "f46148b6",
   "metadata": {},
   "outputs": [
    {
     "data": {
      "text/plain": [
       "['E:/global-wheat-detection/train\\\\00333207f.jpg',\n",
       " 'E:/global-wheat-detection/train\\\\005b0d8bb.jpg',\n",
       " 'E:/global-wheat-detection/train\\\\006a994f7.jpg']"
      ]
     },
     "execution_count": 16,
     "metadata": {},
     "output_type": "execute_result"
    }
   ],
   "source": [
    "files[:3]"
   ]
  },
  {
   "cell_type": "code",
   "execution_count": 17,
   "id": "661d5d10",
   "metadata": {},
   "outputs": [],
   "source": [
    "for file in files:\n",
    "    name = file[32:]\n",
    "    img_lms = Utils.load_lms(file)\n",
    "    transform = Transforms.lms_deutranopia_sim(degree=1.0)\n",
    "\n",
    "    img_sim = np.dot(img_lms, transform)\n",
    "    img_sim = np.uint8(np.dot(img_sim, Transforms.lms_to_rgb()) * 255)\n",
    "    \n",
    "    cv2.imwrite(f'E:/global-wheat-detection/cvd/train/{name}', img_sim)"
   ]
  },
  {
   "cell_type": "code",
   "execution_count": 2,
   "id": "fc9a0b96",
   "metadata": {},
   "outputs": [],
   "source": [
    "input_path = 'E:/global-wheat-detection/test'\n",
    "files = sorted(glob.glob(input_path + \"/*.*\"))"
   ]
  },
  {
   "cell_type": "code",
   "execution_count": 3,
   "id": "b37e7fc0",
   "metadata": {},
   "outputs": [
    {
     "data": {
      "text/plain": [
       "['E:/global-wheat-detection/test\\\\2fd875eaa.jpg',\n",
       " 'E:/global-wheat-detection/test\\\\348a992bb.jpg',\n",
       " 'E:/global-wheat-detection/test\\\\51b3e36ab.jpg']"
      ]
     },
     "execution_count": 3,
     "metadata": {},
     "output_type": "execute_result"
    }
   ],
   "source": [
    "files[:3]"
   ]
  },
  {
   "cell_type": "code",
   "execution_count": 8,
   "id": "f9cae3c4",
   "metadata": {},
   "outputs": [],
   "source": [
    "for file in files:\n",
    "    name = file[31:]\n",
    "    img_lms = Utils.load_lms(file)\n",
    "    transform = Transforms.lms_deutranopia_sim(degree=1.0)\n",
    "\n",
    "    img_sim = np.dot(img_lms, transform)\n",
    "    img_sim = np.uint8(np.dot(img_sim, Transforms.lms_to_rgb()) * 255)\n",
    "    \n",
    "    cv2.imwrite(f'E:/global-wheat-detection/cvd/test/{name}', img_sim)"
   ]
  },
  {
   "cell_type": "code",
   "execution_count": null,
   "id": "9081b584",
   "metadata": {},
   "outputs": [],
   "source": []
  },
  {
   "cell_type": "code",
   "execution_count": null,
   "id": "5342f90a",
   "metadata": {},
   "outputs": [],
   "source": []
  }
 ],
 "metadata": {
  "kernelspec": {
   "display_name": "Python 3 (ipykernel)",
   "language": "python",
   "name": "python3"
  },
  "language_info": {
   "codemirror_mode": {
    "name": "ipython",
    "version": 3
   },
   "file_extension": ".py",
   "mimetype": "text/x-python",
   "name": "python",
   "nbconvert_exporter": "python",
   "pygments_lexer": "ipython3",
   "version": "3.7.11"
  }
 },
 "nbformat": 4,
 "nbformat_minor": 5
}
